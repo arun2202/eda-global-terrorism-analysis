{
  "nbformat": 4,
  "nbformat_minor": 0,
  "metadata": {
    "kernelspec": {
      "display_name": "Python 3",
      "language": "python",
      "name": "python3"
    },
    "language_info": {
      "codemirror_mode": {
        "name": "ipython",
        "version": 3
      },
      "file_extension": ".py",
      "mimetype": "text/x-python",
      "name": "python",
      "nbconvert_exporter": "python",
      "pygments_lexer": "ipython3",
      "version": "3.6.6"
    },
    "colab": {
      "name": "Global Terrorism Analysis - Capstone Project.ipynb",
      "provenance": [],
      "collapsed_sections": [],
      "include_colab_link": true
    }
  },
  "cells": [
    {
      "cell_type": "markdown",
      "metadata": {
        "id": "view-in-github",
        "colab_type": "text"
      },
      "source": [
        "<a href=\"https://colab.research.google.com/github/arun2202/eda-global-terrorism-analysis/blob/main/Global_Terrorism_Analysis_Capstone_Project.ipynb\" target=\"_parent\"><img src=\"https://colab.research.google.com/assets/colab-badge.svg\" alt=\"Open In Colab\"/></a>"
      ]
    },
    {
      "cell_type": "markdown",
      "metadata": {
        "id": "Y06xIdG26kRF"
      },
      "source": [
        "## <b> The Global Terrorism Database (GTD) is an open-source database including information on terrorist attacks around the world from 1970 through 2017. The GTD includes systematic data on domestic as well as international terrorist incidents that have occurred during this time period and now includes more than 180,000 attacks. The database is maintained by researchers at the National Consortium for the Study of Terrorism and Responses to Terrorism (START), headquartered at the University of Maryland.</b>\n",
        "\n",
        "# <b> Explore and analyze the data to discover key findings pertaining to terrorist activities. </b>"
      ]
    },
    {
      "cell_type": "code",
      "source": [
        "from google.colab import drive\n",
        "drive.mount('/content/drive')"
      ],
      "metadata": {
        "colab": {
          "base_uri": "https://localhost:8080/"
        },
        "id": "K1Zx34DDS6HT",
        "outputId": "c2bf6179-c092-4658-faeb-bfa04bf3f325"
      },
      "execution_count": null,
      "outputs": [
        {
          "output_type": "stream",
          "name": "stdout",
          "text": [
            "Mounted at /content/drive\n"
          ]
        }
      ]
    },
    {
      "cell_type": "code",
      "metadata": {
        "id": "dByMsuzT8Tnw",
        "colab": {
          "base_uri": "https://localhost:8080/"
        },
        "outputId": "d5040a2f-8f47-482f-be1a-6df49d9d9ff6"
      },
      "source": [
        "#loading the Global Terrorism Analysis CSV file data into the data frame\n",
        "import pandas as pd\n",
        "file_path = '/content/drive/MyDrive/Colab Notebooks/AlmaBetter/2.Analytics Frameworks/2.1. Capstone Project - EDA/Global Terrorism Data.csv'\n",
        "GTA_df = pd.read_csv(file_path,encoding=\"ISO-8859-1\") # as utf-8 encoding seems to be failing, using this encoding=\"ISO-8859-1\""
      ],
      "execution_count": null,
      "outputs": [
        {
          "output_type": "stream",
          "name": "stderr",
          "text": [
            "/usr/local/lib/python3.7/dist-packages/IPython/core/interactiveshell.py:2882: DtypeWarning: Columns (4,6,31,33,61,62,63,76,79,90,92,94,96,114,115,121) have mixed types.Specify dtype option on import or set low_memory=False.\n",
            "  exec(code_obj, self.user_global_ns, self.user_ns)\n"
          ]
        }
      ]
    },
    {
      "cell_type": "code",
      "source": [
        "#sampling the data\n",
        "print(GTA_df.head())\n"
      ],
      "metadata": {
        "id": "4NwzB6jHTYdt",
        "colab": {
          "base_uri": "https://localhost:8080/"
        },
        "outputId": "4b44b4fb-c368-4395-a07b-543e89033491"
      },
      "execution_count": null,
      "outputs": [
        {
          "output_type": "stream",
          "name": "stdout",
          "text": [
            "        eventid  iyear  imonth  iday approxdate  extended resolution  country  \\\n",
            "0  197000000001   1970       7     2        NaN         0        NaN       58   \n",
            "1  197000000002   1970       0     0        NaN         0        NaN      130   \n",
            "2  197001000001   1970       1     0        NaN         0        NaN      160   \n",
            "3  197001000002   1970       1     0        NaN         0        NaN       78   \n",
            "4  197001000003   1970       1     0        NaN         0        NaN      101   \n",
            "\n",
            "          country_txt  region  ... addnotes scite1 scite2  scite3  dbsource  \\\n",
            "0  Dominican Republic       2  ...      NaN    NaN    NaN     NaN      PGIS   \n",
            "1              Mexico       1  ...      NaN    NaN    NaN     NaN      PGIS   \n",
            "2         Philippines       5  ...      NaN    NaN    NaN     NaN      PGIS   \n",
            "3              Greece       8  ...      NaN    NaN    NaN     NaN      PGIS   \n",
            "4               Japan       4  ...      NaN    NaN    NaN     NaN      PGIS   \n",
            "\n",
            "   INT_LOG  INT_IDEO INT_MISC INT_ANY  related  \n",
            "0        0         0        0       0      NaN  \n",
            "1        0         1        1       1      NaN  \n",
            "2       -9        -9        1       1      NaN  \n",
            "3       -9        -9        1       1      NaN  \n",
            "4       -9        -9        1       1      NaN  \n",
            "\n",
            "[5 rows x 135 columns]\n"
          ]
        }
      ]
    },
    {
      "cell_type": "code",
      "source": [
        "#sampling the data\n",
        "print(GTA_df.tail())"
      ],
      "metadata": {
        "colab": {
          "base_uri": "https://localhost:8080/"
        },
        "id": "yzbsn_ykJx0R",
        "outputId": "0d71a983-d514-44b6-e4c2-d1a2124d6cbc"
      },
      "execution_count": null,
      "outputs": [
        {
          "output_type": "stream",
          "name": "stdout",
          "text": [
            "             eventid  iyear  imonth  iday approxdate  extended resolution  \\\n",
            "181686  201712310022   2017      12    31        NaN         0        NaN   \n",
            "181687  201712310029   2017      12    31        NaN         0        NaN   \n",
            "181688  201712310030   2017      12    31        NaN         0        NaN   \n",
            "181689  201712310031   2017      12    31        NaN         0        NaN   \n",
            "181690  201712310032   2017      12    31        NaN         0        NaN   \n",
            "\n",
            "        country  country_txt  region  ... addnotes  \\\n",
            "181686      182      Somalia      11  ...      NaN   \n",
            "181687      200        Syria      10  ...      NaN   \n",
            "181688      160  Philippines       5  ...      NaN   \n",
            "181689       92        India       6  ...      NaN   \n",
            "181690      160  Philippines       5  ...      NaN   \n",
            "\n",
            "                                                   scite1  \\\n",
            "181686  \"Somalia: Al-Shabaab Militants Attack Army Che...   \n",
            "181687  \"Putin's 'victory' in Syria has turned into a ...   \n",
            "181688  \"Maguindanao clashes trap tribe members,\" Phil...   \n",
            "181689  \"Trader escapes grenade attack in Imphal,\" Bus...   \n",
            "181690  \"Security tightened in Cotabato following IED ...   \n",
            "\n",
            "                                                   scite2  \\\n",
            "181686  \"Highlights: Somalia Daily Media Highlights 2 ...   \n",
            "181687  \"Two Russian soldiers killed at Hmeymim base i...   \n",
            "181688                                                NaN   \n",
            "181689                                                NaN   \n",
            "181690  \"Security tightened in Cotabato City,\" Manila ...   \n",
            "\n",
            "                                                   scite3  \\\n",
            "181686  \"Highlights: Somalia Daily Media Highlights 1 ...   \n",
            "181687  \"Two Russian servicemen killed in Syria mortar...   \n",
            "181688                                                NaN   \n",
            "181689                                                NaN   \n",
            "181690                                                NaN   \n",
            "\n",
            "                        dbsource  INT_LOG  INT_IDEO INT_MISC INT_ANY  related  \n",
            "181686  START Primary Collection        0         0        0       0      NaN  \n",
            "181687  START Primary Collection       -9        -9        1       1      NaN  \n",
            "181688  START Primary Collection        0         0        0       0      NaN  \n",
            "181689  START Primary Collection       -9        -9        0      -9      NaN  \n",
            "181690  START Primary Collection       -9        -9        0      -9      NaN  \n",
            "\n",
            "[5 rows x 135 columns]\n"
          ]
        }
      ]
    },
    {
      "cell_type": "code",
      "source": [
        "#understand the column names\n",
        "print(GTA_df.columns)"
      ],
      "metadata": {
        "colab": {
          "base_uri": "https://localhost:8080/"
        },
        "id": "spgdcICJJ1ca",
        "outputId": "0a31afcb-4b80-47ce-c632-a1e274a6aaa4"
      },
      "execution_count": null,
      "outputs": [
        {
          "output_type": "stream",
          "name": "stdout",
          "text": [
            "Index(['eventid', 'iyear', 'imonth', 'iday', 'approxdate', 'extended',\n",
            "       'resolution', 'country', 'country_txt', 'region',\n",
            "       ...\n",
            "       'addnotes', 'scite1', 'scite2', 'scite3', 'dbsource', 'INT_LOG',\n",
            "       'INT_IDEO', 'INT_MISC', 'INT_ANY', 'related'],\n",
            "      dtype='object', length=135)\n"
          ]
        }
      ]
    },
    {
      "cell_type": "code",
      "source": [
        "#understand the data frame measures\n",
        "print(GTA_df.describe())"
      ],
      "metadata": {
        "colab": {
          "base_uri": "https://localhost:8080/"
        },
        "id": "x0586SgCLHvT",
        "outputId": "e4d15f4d-ee69-4734-b114-836d73d5b404"
      },
      "execution_count": null,
      "outputs": [
        {
          "output_type": "stream",
          "name": "stdout",
          "text": [
            "            eventid          iyear         imonth           iday  \\\n",
            "count  1.816910e+05  181691.000000  181691.000000  181691.000000   \n",
            "mean   2.002705e+11    2002.638997       6.467277      15.505644   \n",
            "std    1.325957e+09      13.259430       3.388303       8.814045   \n",
            "min    1.970000e+11    1970.000000       0.000000       0.000000   \n",
            "25%    1.991021e+11    1991.000000       4.000000       8.000000   \n",
            "50%    2.009022e+11    2009.000000       6.000000      15.000000   \n",
            "75%    2.014081e+11    2014.000000       9.000000      23.000000   \n",
            "max    2.017123e+11    2017.000000      12.000000      31.000000   \n",
            "\n",
            "            extended        country         region       latitude  \\\n",
            "count  181691.000000  181691.000000  181691.000000  177135.000000   \n",
            "mean        0.045346     131.968501       7.160938      23.498343   \n",
            "std         0.208063     112.414535       2.933408      18.569242   \n",
            "min         0.000000       4.000000       1.000000     -53.154613   \n",
            "25%         0.000000      78.000000       5.000000      11.510046   \n",
            "50%         0.000000      98.000000       6.000000      31.467463   \n",
            "75%         0.000000     160.000000      10.000000      34.685087   \n",
            "max         1.000000    1004.000000      12.000000      74.633553   \n",
            "\n",
            "          longitude    specificity  ...     ransomamt   ransomamtus  \\\n",
            "count  1.771340e+05  181685.000000  ...  1.350000e+03  5.630000e+02   \n",
            "mean  -4.586957e+02       1.451452  ...  3.172530e+06  5.784865e+05   \n",
            "std    2.047790e+05       0.995430  ...  3.021157e+07  7.077924e+06   \n",
            "min   -8.618590e+07       1.000000  ... -9.900000e+01 -9.900000e+01   \n",
            "25%    4.545640e+00       1.000000  ...  0.000000e+00  0.000000e+00   \n",
            "50%    4.324651e+01       1.000000  ...  1.500000e+04  0.000000e+00   \n",
            "75%    6.871033e+01       1.000000  ...  4.000000e+05  0.000000e+00   \n",
            "max    1.793667e+02       5.000000  ...  1.000000e+09  1.320000e+08   \n",
            "\n",
            "         ransompaid  ransompaidus  hostkidoutcome     nreleased  \\\n",
            "count  7.740000e+02    552.000000    10991.000000  10400.000000   \n",
            "mean   7.179437e+05    240.378623        4.629242    -29.018269   \n",
            "std    1.014392e+07   2940.967293        2.035360     65.720119   \n",
            "min   -9.900000e+01    -99.000000        1.000000    -99.000000   \n",
            "25%   -9.900000e+01      0.000000        2.000000    -99.000000   \n",
            "50%    0.000000e+00      0.000000        4.000000      0.000000   \n",
            "75%    1.273412e+03      0.000000        7.000000      1.000000   \n",
            "max    2.750000e+08  48000.000000        7.000000   2769.000000   \n",
            "\n",
            "             INT_LOG       INT_IDEO       INT_MISC        INT_ANY  \n",
            "count  181691.000000  181691.000000  181691.000000  181691.000000  \n",
            "mean       -4.543731      -4.464398       0.090010      -3.945952  \n",
            "std         4.543547       4.637152       0.568457       4.691325  \n",
            "min        -9.000000      -9.000000      -9.000000      -9.000000  \n",
            "25%        -9.000000      -9.000000       0.000000      -9.000000  \n",
            "50%        -9.000000      -9.000000       0.000000       0.000000  \n",
            "75%         0.000000       0.000000       0.000000       0.000000  \n",
            "max         1.000000       1.000000       1.000000       1.000000  \n",
            "\n",
            "[8 rows x 77 columns]\n"
          ]
        }
      ]
    },
    {
      "cell_type": "code",
      "source": [
        "#Row and column info about the data frame\n",
        "print(GTA_df.info())"
      ],
      "metadata": {
        "colab": {
          "base_uri": "https://localhost:8080/"
        },
        "id": "S8JLdcu0J6fj",
        "outputId": "eae17681-502c-450e-c66a-cd2ab06aed21"
      },
      "execution_count": null,
      "outputs": [
        {
          "output_type": "stream",
          "name": "stdout",
          "text": [
            "<class 'pandas.core.frame.DataFrame'>\n",
            "RangeIndex: 181691 entries, 0 to 181690\n",
            "Columns: 135 entries, eventid to related\n",
            "dtypes: float64(55), int64(22), object(58)\n",
            "memory usage: 187.1+ MB\n",
            "None\n"
          ]
        }
      ]
    },
    {
      "cell_type": "code",
      "source": [
        ""
      ],
      "metadata": {
        "id": "fgJ0cdCDKH1d"
      },
      "execution_count": null,
      "outputs": []
    }
  ]
}